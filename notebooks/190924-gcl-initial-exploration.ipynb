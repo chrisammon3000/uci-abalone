{
 "cells": [
  {
   "cell_type": "markdown",
   "metadata": {},
   "source": [
    "# Predicting Abalone age\n",
    "\n",
    "The purpose of this notebook is to create a model that predicts the age of an abalone from its physical characterstics as accurately as possible.\n",
    "\n",
    "Data: [UCI Machine Learning Repository](https://archive.ics.uci.edu/ml/datasets/Abalone)"
   ]
  },
  {
   "cell_type": "markdown",
   "metadata": {},
   "source": [
    "## Import Data"
   ]
  },
  {
   "cell_type": "code",
   "execution_count": 356,
   "metadata": {},
   "outputs": [],
   "source": [
    "# Import libraries\n",
    "import os\n",
    "import sys\n",
    "\n",
    "# Update path for notebook location\n",
    "sys.path[0] = \"../\"\n",
    "\n",
    "from urllib.request import urlretrieve, urlopen\n",
    "\n",
    "from IPython.display import display, HTML # Display functions\n",
    "import numpy as np\n",
    "import pandas as pd\n",
    "import matplotlib.pyplot as plt\n",
    "%matplotlib inline\n",
    "\n",
    "import seaborn as sns\n",
    "sns.set_palette(\"colorblind\") \n",
    "sns.set_style(\"darkgrid\")\n",
    "\n",
    "# Set Pandas display options\n",
    "pd.set_option('display.max_rows', 500)\n",
    "pd.set_option('display.max_columns', 500)\n",
    "pd.set_option('display.width', 1000)\n",
    "\n",
    "import warnings\n",
    "warnings.filterwarnings(\"ignore\", category=DeprecationWarning) "
   ]
  },
  {
   "cell_type": "code",
   "execution_count": 357,
   "metadata": {},
   "outputs": [],
   "source": [
    "# Set remote URL for retrieval\n",
    "URL = 'https://archive.ics.uci.edu/ml/machine-learning-databases/abalone/'\n",
    "\n",
    "# Set path to data\n",
    "path = '../data/raw/'\n",
    "\n",
    "# Set filenames\n",
    "filename = 'abalone.data'\n",
    "names = 'abalone.names'\n",
    "\n",
    "# Check if data is present\n",
    "if 'abalone.data' not in os.listdir('../data/raw'):\n",
    "    urlretrieve(URL + filename, path + filename); # Download raw data\n",
    "    urlretrieve(URL + names, path + names); # Download column names"
   ]
  },
  {
   "cell_type": "code",
   "execution_count": 358,
   "metadata": {},
   "outputs": [],
   "source": [
    "# Read in names from text file\n",
    "with open('../data/raw/abalone.names', 'r') as names:\n",
    "    lines = list(names)\n",
    "\n",
    "# Names - for now use this list\n",
    "names = ['Sex', 'Length', 'Diameter', 'Height', 'WeightWhole', \n",
    "         'WeightShucked', 'WeightViscera', 'WeightShell', 'RingCount']\n",
    "\n",
    "# Read in data\n",
    "raw = pd.read_csv('../data/raw/abalone.data', names=names, header=None, sep=',');"
   ]
  },
  {
   "cell_type": "code",
   "execution_count": 359,
   "metadata": {},
   "outputs": [
    {
     "data": {
      "text/html": [
       "<div>\n",
       "<style scoped>\n",
       "    .dataframe tbody tr th:only-of-type {\n",
       "        vertical-align: middle;\n",
       "    }\n",
       "\n",
       "    .dataframe tbody tr th {\n",
       "        vertical-align: top;\n",
       "    }\n",
       "\n",
       "    .dataframe thead th {\n",
       "        text-align: right;\n",
       "    }\n",
       "</style>\n",
       "<table border=\"1\" class=\"dataframe\">\n",
       "  <thead>\n",
       "    <tr style=\"text-align: right;\">\n",
       "      <th></th>\n",
       "      <th>Sex</th>\n",
       "      <th>Length</th>\n",
       "      <th>Diameter</th>\n",
       "      <th>Height</th>\n",
       "      <th>WeightWhole</th>\n",
       "      <th>WeightShucked</th>\n",
       "      <th>WeightViscera</th>\n",
       "      <th>WeightShell</th>\n",
       "      <th>RingCount</th>\n",
       "    </tr>\n",
       "  </thead>\n",
       "  <tbody>\n",
       "    <tr>\n",
       "      <td>0</td>\n",
       "      <td>M</td>\n",
       "      <td>0.455</td>\n",
       "      <td>0.365</td>\n",
       "      <td>0.095</td>\n",
       "      <td>0.5140</td>\n",
       "      <td>0.2245</td>\n",
       "      <td>0.1010</td>\n",
       "      <td>0.150</td>\n",
       "      <td>15</td>\n",
       "    </tr>\n",
       "    <tr>\n",
       "      <td>1</td>\n",
       "      <td>M</td>\n",
       "      <td>0.350</td>\n",
       "      <td>0.265</td>\n",
       "      <td>0.090</td>\n",
       "      <td>0.2255</td>\n",
       "      <td>0.0995</td>\n",
       "      <td>0.0485</td>\n",
       "      <td>0.070</td>\n",
       "      <td>7</td>\n",
       "    </tr>\n",
       "    <tr>\n",
       "      <td>2</td>\n",
       "      <td>F</td>\n",
       "      <td>0.530</td>\n",
       "      <td>0.420</td>\n",
       "      <td>0.135</td>\n",
       "      <td>0.6770</td>\n",
       "      <td>0.2565</td>\n",
       "      <td>0.1415</td>\n",
       "      <td>0.210</td>\n",
       "      <td>9</td>\n",
       "    </tr>\n",
       "    <tr>\n",
       "      <td>3</td>\n",
       "      <td>M</td>\n",
       "      <td>0.440</td>\n",
       "      <td>0.365</td>\n",
       "      <td>0.125</td>\n",
       "      <td>0.5160</td>\n",
       "      <td>0.2155</td>\n",
       "      <td>0.1140</td>\n",
       "      <td>0.155</td>\n",
       "      <td>10</td>\n",
       "    </tr>\n",
       "    <tr>\n",
       "      <td>4</td>\n",
       "      <td>I</td>\n",
       "      <td>0.330</td>\n",
       "      <td>0.255</td>\n",
       "      <td>0.080</td>\n",
       "      <td>0.2050</td>\n",
       "      <td>0.0895</td>\n",
       "      <td>0.0395</td>\n",
       "      <td>0.055</td>\n",
       "      <td>7</td>\n",
       "    </tr>\n",
       "  </tbody>\n",
       "</table>\n",
       "</div>"
      ],
      "text/plain": [
       "  Sex  Length  Diameter  Height  WeightWhole  WeightShucked  WeightViscera  WeightShell  RingCount\n",
       "0   M   0.455     0.365   0.095       0.5140         0.2245         0.1010        0.150         15\n",
       "1   M   0.350     0.265   0.090       0.2255         0.0995         0.0485        0.070          7\n",
       "2   F   0.530     0.420   0.135       0.6770         0.2565         0.1415        0.210          9\n",
       "3   M   0.440     0.365   0.125       0.5160         0.2155         0.1140        0.155         10\n",
       "4   I   0.330     0.255   0.080       0.2050         0.0895         0.0395        0.055          7"
      ]
     },
     "execution_count": 359,
     "metadata": {},
     "output_type": "execute_result"
    }
   ],
   "source": [
    "raw.head()"
   ]
  },
  {
   "cell_type": "markdown",
   "metadata": {},
   "source": [
    "## EDA"
   ]
  },
  {
   "cell_type": "code",
   "execution_count": 360,
   "metadata": {},
   "outputs": [
    {
     "data": {
      "text/plain": [
       "(4177, 9)"
      ]
     },
     "execution_count": 360,
     "metadata": {},
     "output_type": "execute_result"
    }
   ],
   "source": [
    "raw.shape"
   ]
  },
  {
   "cell_type": "code",
   "execution_count": 361,
   "metadata": {},
   "outputs": [
    {
     "name": "stdout",
     "output_type": "stream",
     "text": [
      "<class 'pandas.core.frame.DataFrame'>\n",
      "RangeIndex: 4177 entries, 0 to 4176\n",
      "Data columns (total 9 columns):\n",
      "Sex              4177 non-null object\n",
      "Length           4177 non-null float64\n",
      "Diameter         4177 non-null float64\n",
      "Height           4177 non-null float64\n",
      "WeightWhole      4177 non-null float64\n",
      "WeightShucked    4177 non-null float64\n",
      "WeightViscera    4177 non-null float64\n",
      "WeightShell      4177 non-null float64\n",
      "RingCount        4177 non-null int64\n",
      "dtypes: float64(7), int64(1), object(1)\n",
      "memory usage: 293.8+ KB\n"
     ]
    }
   ],
   "source": [
    "raw.info()"
   ]
  },
  {
   "cell_type": "markdown",
   "metadata": {},
   "source": [
    "The dataset has no missing values or incorrect datatypes."
   ]
  },
  {
   "cell_type": "markdown",
   "metadata": {},
   "source": [
    "### Categorical Features"
   ]
  },
  {
   "cell_type": "markdown",
   "metadata": {},
   "source": [
    "#### Sex\n",
    "\n",
    "Sex is the only categorical variable. It has 3 classes: \n",
    "- M: male\n",
    "- F: female\n",
    "- I: infant"
   ]
  },
  {
   "cell_type": "code",
   "execution_count": 362,
   "metadata": {},
   "outputs": [],
   "source": [
    "# Convert dtype to category\n",
    "#assert (raw['Sex'].dtype == 'category') | (raw['Sex'].dtype == 'object'), \"dtype must be 'category' or 'object'.\""
   ]
  },
  {
   "cell_type": "markdown",
   "metadata": {},
   "source": [
    "Examine distribution:"
   ]
  },
  {
   "cell_type": "code",
   "execution_count": 363,
   "metadata": {},
   "outputs": [
    {
     "data": {
      "image/png": "[encoded data removed]",
      "text/plain": [
       "<Figure size 432x288 with 1 Axes>"
      ]
     },
     "metadata": {},
     "output_type": "display_data"
    }
   ],
   "source": [
    "sns.countplot(x=\"Sex\", data=raw);"
   ]
  },
  {
   "cell_type": "markdown",
   "metadata": {},
   "source": [
    "There are 3 categories in the Sex column and the classes appear to be adequately balanced."
   ]
  },
  {
   "cell_type": "code",
   "execution_count": 364,
   "metadata": {
    "scrolled": false
   },
   "outputs": [],
   "source": [
    "# Pairplots all continuous numeric features\n",
    "#sns.pairplot(raw, hue=\"Sex\", diag_kind=\"kde\", plot_kws={'alpha': 0.1});"
   ]
  },
  {
   "cell_type": "markdown",
   "metadata": {},
   "source": [
    "### Numeric Features: *Length, Diameter, Height, WeightWhole, WeightShucked, WeightViscera, WeightShell*"
   ]
  },
  {
   "cell_type": "markdown",
   "metadata": {},
   "source": [
    "At a glance the pairplot shows some right skew on Length and Diameter, and left skew for adult individuals on the 4 weight columns. There are also some strong correlations present among features, as well as a couple outliers in the Height column.\n",
    "\n"
   ]
  },
  {
   "cell_type": "code",
   "execution_count": 365,
   "metadata": {},
   "outputs": [
    {
     "data": {
      "image/png": "[encoded data removed]",
      "text/plain": [
       "<Figure size 864x432 with 1 Axes>"
      ]
     },
     "metadata": {},
     "output_type": "display_data"
    }
   ],
   "source": [
    "# Selects numeric datatypes\n",
    "raw_numeric = raw.select_dtypes(include=['float64'])\n",
    "\n",
    "# Plots boxplot of continuous numeric features\n",
    "fig, ax = plt.subplots(nrows=1, ncols=1, figsize=(12, 6))\n",
    "sns.boxplot(data=raw_numeric, ax=ax)\n",
    "plt.title(\"Abalone Numeric Features\", fontsize=20)\n",
    "plt.tight_layout(pad=5)\n",
    "plt.show()"
   ]
  },
  {
   "cell_type": "markdown",
   "metadata": {},
   "source": [
    "### Numeric Features: *RingCount*"
   ]
  },
  {
   "cell_type": "code",
   "execution_count": 366,
   "metadata": {},
   "outputs": [
    {
     "data": {
      "image/png": "[encoded data removed]",
      "text/plain": [
       "<Figure size 720x360 with 1 Axes>"
      ]
     },
     "metadata": {},
     "output_type": "display_data"
    }
   ],
   "source": [
    "# Selects discrete numeric features\n",
    "raw.select_dtypes(include='int').head()\n",
    "\n",
    "# Plots RingCount\n",
    "raw['RingCount'].hist(figsize=(10, 5), bins=29)\n",
    "plt.title(\"RingCount\", fontsize=20);"
   ]
  },
  {
   "cell_type": "markdown",
   "metadata": {},
   "source": [
    "There is slight skew in the age towards younger individuals. Perhaps their probability of being harvested or eaten increases once they exceed a certain size."
   ]
  },
  {
   "cell_type": "code",
   "execution_count": 367,
   "metadata": {},
   "outputs": [
    {
     "data": {
      "text/plain": [
       "1       1\n",
       "2       1\n",
       "3      15\n",
       "4      57\n",
       "5     115\n",
       "6     259\n",
       "7     391\n",
       "8     568\n",
       "9     689\n",
       "10    634\n",
       "11    487\n",
       "12    267\n",
       "13    203\n",
       "14    126\n",
       "15    103\n",
       "16     67\n",
       "17     58\n",
       "18     42\n",
       "19     32\n",
       "20     26\n",
       "21     14\n",
       "22      6\n",
       "23      9\n",
       "24      2\n",
       "25      1\n",
       "26      1\n",
       "27      2\n",
       "29      1\n",
       "Name: RingCount, dtype: int64"
      ]
     },
     "execution_count": 367,
     "metadata": {},
     "output_type": "execute_result"
    }
   ],
   "source": [
    "# Get value counts by age\n",
    "raw['RingCount'].value_counts().sort_index()"
   ]
  },
  {
   "cell_type": "markdown",
   "metadata": {},
   "source": [
    "### Correlation"
   ]
  },
  {
   "cell_type": "code",
   "execution_count": 368,
   "metadata": {},
   "outputs": [
    {
     "data": {
      "image/png": "[encoded data removed]",
      "text/plain": [
       "<Figure size 432x288 with 2 Axes>"
      ]
     },
     "metadata": {},
     "output_type": "display_data"
    }
   ],
   "source": [
    "plt.title(\"Abalone: Correlation\")\n",
    "sns.heatmap(raw.corr(), cmap='Reds');"
   ]
  },
  {
   "cell_type": "markdown",
   "metadata": {},
   "source": [
    "Length and Diameter appear to have high correlation so we may drop one of them to avoid bias."
   ]
  },
  {
   "cell_type": "markdown",
   "metadata": {},
   "source": [
    "## Preprocessing Methods\n",
    "\n",
    "**RingCount**\n",
    "* Add 1.5 to calculate age in years\n",
    "\n",
    "**Sex** \n",
    "* Create dummies\n",
    "\n",
    "**Length, Diameter**\n",
    "* Drop one\n",
    "* Standardize\n",
    "* Remove Outliers\n",
    "\n",
    "**Height**\n",
    "* Remove Outliers with Log transform\n",
    "\n",
    "**WeightWhole, WeightShucked, WeightViscera, WeightShell**\n",
    "* Normalize"
   ]
  },
  {
   "cell_type": "markdown",
   "metadata": {},
   "source": [
    "### Feature Engineering: RingCount"
   ]
  },
  {
   "cell_type": "code",
   "execution_count": 369,
   "metadata": {},
   "outputs": [],
   "source": [
    "raw['RingCount'] = raw['RingCount'] + 1"
   ]
  },
  {
   "cell_type": "markdown",
   "metadata": {},
   "source": [
    "### Feature Engineering: Sex\n",
    "\n",
    "Create dummy variables:"
   ]
  },
  {
   "cell_type": "code",
   "execution_count": 370,
   "metadata": {},
   "outputs": [],
   "source": [
    "# Creates dummy variables\n",
    "sex_dummies = pd.get_dummies(raw['Sex'], drop_first=True, prefix='Sex')\n",
    "raw = pd.concat([raw, sex_dummies], axis=1)"
   ]
  },
  {
   "cell_type": "markdown",
   "metadata": {},
   "source": [
    "### Feature Engineering: Length, Diameter\n",
    "\n",
    "Drop Length, Standardize"
   ]
  },
  {
   "cell_type": "code",
   "execution_count": 371,
   "metadata": {},
   "outputs": [],
   "source": [
    "raw.drop('Length', axis=1, inplace=True)"
   ]
  },
  {
   "cell_type": "markdown",
   "metadata": {},
   "source": [
    "### Feature Engineering: Height\n",
    "\n",
    "A log transform will handle the outliers:"
   ]
  },
  {
   "cell_type": "code",
   "execution_count": 372,
   "metadata": {},
   "outputs": [],
   "source": [
    "# Applies log transform\n",
    "from sklearn.preprocessing import PowerTransformer\n",
    "\n",
    "log = PowerTransformer(standardize=True)\n",
    "\n",
    "log.fit(raw[['Height']])\n",
    "\n",
    "raw['Height_log'] = log.transform(raw[['Height']])"
   ]
  },
  {
   "cell_type": "code",
   "execution_count": 373,
   "metadata": {},
   "outputs": [
    {
     "data": {
      "image/png": "[encoded data removed]",
      "text/plain": [
       "<Figure size 576x432 with 2 Axes>"
      ]
     },
     "metadata": {},
     "output_type": "display_data"
    }
   ],
   "source": [
    "# Graphs different distributions before and after transform\n",
    "fig, ax = plt.subplots(2, 1, figsize=(8, 6))\n",
    "\n",
    "sns.kdeplot(raw['Height'], ax=ax[0])\n",
    "sns.kdeplot(raw['Height_log'], ax=ax[1])\n",
    "\n",
    "ax[0].set_title('Abalone Height')\n",
    "ax[1].set_title('Abalone Height: Log transform')\n",
    "\n",
    "plt.tight_layout(pad=2)\n",
    "\n",
    "plt.show()"
   ]
  },
  {
   "cell_type": "markdown",
   "metadata": {},
   "source": [
    "### Feature Engineering: WeightWhole, WeightShucked, WeightViscera, WeightShell\n",
    "\n",
    "Scale values:"
   ]
  },
  {
   "cell_type": "code",
   "execution_count": 374,
   "metadata": {},
   "outputs": [],
   "source": [
    "from sklearn.preprocessing import StandardScaler\n",
    "\n",
    "# Select columns to scale\n",
    "weight_cols = ['WeightWhole', 'WeightShucked', 'WeightViscera', 'WeightShell']\n",
    "\n",
    "# Instantiate, fit and transform data\n",
    "ss = StandardScaler()\n",
    "weight_transformed = ss.fit_transform(raw[weight_cols])\n",
    "\n",
    "# Concatenate scaled data with dataframe\n",
    "weight_transformed = pd.DataFrame(weight_transformed, columns=['Scaled_' + column for column in weight_cols])\n",
    "raw_scaled = pd.concat([raw, pd.DataFrame(weight_transformed)], axis=1)"
   ]
  },
  {
   "cell_type": "code",
   "execution_count": 375,
   "metadata": {},
   "outputs": [],
   "source": [
    "# Drops unneeded columns\n",
    "drop_cols = weight_cols + ['Sex', 'Height']\n",
    "\n",
    "#drop_cols = ['Sex', 'Height']\n",
    "#raw = raw.drop(drop_cols, axis=1)\n",
    "raw_scaled = raw_scaled.drop(drop_cols, axis=1)"
   ]
  },
  {
   "cell_type": "code",
   "execution_count": 376,
   "metadata": {},
   "outputs": [
    {
     "data": {
      "text/html": [
       "<div>\n",
       "<style scoped>\n",
       "    .dataframe tbody tr th:only-of-type {\n",
       "        vertical-align: middle;\n",
       "    }\n",
       "\n",
       "    .dataframe tbody tr th {\n",
       "        vertical-align: top;\n",
       "    }\n",
       "\n",
       "    .dataframe thead th {\n",
       "        text-align: right;\n",
       "    }\n",
       "</style>\n",
       "<table border=\"1\" class=\"dataframe\">\n",
       "  <thead>\n",
       "    <tr style=\"text-align: right;\">\n",
       "      <th></th>\n",
       "      <th>Diameter</th>\n",
       "      <th>RingCount</th>\n",
       "      <th>Sex_I</th>\n",
       "      <th>Sex_M</th>\n",
       "      <th>Height_log</th>\n",
       "      <th>Scaled_WeightWhole</th>\n",
       "      <th>Scaled_WeightShucked</th>\n",
       "      <th>Scaled_WeightViscera</th>\n",
       "      <th>Scaled_WeightShell</th>\n",
       "    </tr>\n",
       "  </thead>\n",
       "  <tbody>\n",
       "    <tr>\n",
       "      <td>0</td>\n",
       "      <td>0.365</td>\n",
       "      <td>16</td>\n",
       "      <td>0</td>\n",
       "      <td>1</td>\n",
       "      <td>-1.124512</td>\n",
       "      <td>-0.641898</td>\n",
       "      <td>-0.607685</td>\n",
       "      <td>-0.726212</td>\n",
       "      <td>-0.638217</td>\n",
       "    </tr>\n",
       "    <tr>\n",
       "      <td>1</td>\n",
       "      <td>0.265</td>\n",
       "      <td>8</td>\n",
       "      <td>0</td>\n",
       "      <td>1</td>\n",
       "      <td>-1.264396</td>\n",
       "      <td>-1.230277</td>\n",
       "      <td>-1.170910</td>\n",
       "      <td>-1.205221</td>\n",
       "      <td>-1.212987</td>\n",
       "    </tr>\n",
       "    <tr>\n",
       "      <td>2</td>\n",
       "      <td>0.420</td>\n",
       "      <td>10</td>\n",
       "      <td>0</td>\n",
       "      <td>0</td>\n",
       "      <td>-0.064823</td>\n",
       "      <td>-0.309469</td>\n",
       "      <td>-0.463500</td>\n",
       "      <td>-0.356690</td>\n",
       "      <td>-0.207139</td>\n",
       "    </tr>\n",
       "    <tr>\n",
       "      <td>3</td>\n",
       "      <td>0.365</td>\n",
       "      <td>11</td>\n",
       "      <td>0</td>\n",
       "      <td>1</td>\n",
       "      <td>-0.320227</td>\n",
       "      <td>-0.637819</td>\n",
       "      <td>-0.648238</td>\n",
       "      <td>-0.607600</td>\n",
       "      <td>-0.602294</td>\n",
       "    </tr>\n",
       "    <tr>\n",
       "      <td>4</td>\n",
       "      <td>0.255</td>\n",
       "      <td>8</td>\n",
       "      <td>1</td>\n",
       "      <td>0</td>\n",
       "      <td>-1.549424</td>\n",
       "      <td>-1.272086</td>\n",
       "      <td>-1.215968</td>\n",
       "      <td>-1.287337</td>\n",
       "      <td>-1.320757</td>\n",
       "    </tr>\n",
       "    <tr>\n",
       "      <td>...</td>\n",
       "      <td>...</td>\n",
       "      <td>...</td>\n",
       "      <td>...</td>\n",
       "      <td>...</td>\n",
       "      <td>...</td>\n",
       "      <td>...</td>\n",
       "      <td>...</td>\n",
       "      <td>...</td>\n",
       "      <td>...</td>\n",
       "    </tr>\n",
       "    <tr>\n",
       "      <td>4172</td>\n",
       "      <td>0.450</td>\n",
       "      <td>12</td>\n",
       "      <td>0</td>\n",
       "      <td>0</td>\n",
       "      <td>0.666117</td>\n",
       "      <td>0.118813</td>\n",
       "      <td>0.047908</td>\n",
       "      <td>0.532900</td>\n",
       "      <td>0.073062</td>\n",
       "    </tr>\n",
       "    <tr>\n",
       "      <td>4173</td>\n",
       "      <td>0.440</td>\n",
       "      <td>11</td>\n",
       "      <td>0</td>\n",
       "      <td>1</td>\n",
       "      <td>-0.064823</td>\n",
       "      <td>0.279929</td>\n",
       "      <td>0.358808</td>\n",
       "      <td>0.309362</td>\n",
       "      <td>0.155685</td>\n",
       "    </tr>\n",
       "    <tr>\n",
       "      <td>4174</td>\n",
       "      <td>0.475</td>\n",
       "      <td>10</td>\n",
       "      <td>0</td>\n",
       "      <td>1</td>\n",
       "      <td>1.565082</td>\n",
       "      <td>0.708212</td>\n",
       "      <td>0.748559</td>\n",
       "      <td>0.975413</td>\n",
       "      <td>0.496955</td>\n",
       "    </tr>\n",
       "    <tr>\n",
       "      <td>4175</td>\n",
       "      <td>0.485</td>\n",
       "      <td>11</td>\n",
       "      <td>0</td>\n",
       "      <td>0</td>\n",
       "      <td>0.307083</td>\n",
       "      <td>0.541998</td>\n",
       "      <td>0.773341</td>\n",
       "      <td>0.733627</td>\n",
       "      <td>0.410739</td>\n",
       "    </tr>\n",
       "    <tr>\n",
       "      <td>4176</td>\n",
       "      <td>0.555</td>\n",
       "      <td>13</td>\n",
       "      <td>0</td>\n",
       "      <td>1</td>\n",
       "      <td>1.347943</td>\n",
       "      <td>2.283681</td>\n",
       "      <td>2.640993</td>\n",
       "      <td>1.787449</td>\n",
       "      <td>1.840481</td>\n",
       "    </tr>\n",
       "  </tbody>\n",
       "</table>\n",
       "<p>4177 rows × 9 columns</p>\n",
       "</div>"
      ],
      "text/plain": [
       "      Diameter  RingCount  Sex_I  Sex_M  Height_log  Scaled_WeightWhole  Scaled_WeightShucked  Scaled_WeightViscera  Scaled_WeightShell\n",
       "0        0.365         16      0      1   -1.124512           -0.641898             -0.607685             -0.726212           -0.638217\n",
       "1        0.265          8      0      1   -1.264396           -1.230277             -1.170910             -1.205221           -1.212987\n",
       "2        0.420         10      0      0   -0.064823           -0.309469             -0.463500             -0.356690           -0.207139\n",
       "3        0.365         11      0      1   -0.320227           -0.637819             -0.648238             -0.607600           -0.602294\n",
       "4        0.255          8      1      0   -1.549424           -1.272086             -1.215968             -1.287337           -1.320757\n",
       "...        ...        ...    ...    ...         ...                 ...                   ...                   ...                 ...\n",
       "4172     0.450         12      0      0    0.666117            0.118813              0.047908              0.532900            0.073062\n",
       "4173     0.440         11      0      1   -0.064823            0.279929              0.358808              0.309362            0.155685\n",
       "4174     0.475         10      0      1    1.565082            0.708212              0.748559              0.975413            0.496955\n",
       "4175     0.485         11      0      0    0.307083            0.541998              0.773341              0.733627            0.410739\n",
       "4176     0.555         13      0      1    1.347943            2.283681              2.640993              1.787449            1.840481\n",
       "\n",
       "[4177 rows x 9 columns]"
      ]
     },
     "execution_count": 376,
     "metadata": {},
     "output_type": "execute_result"
    }
   ],
   "source": [
    "raw_scaled"
   ]
  },
  {
   "cell_type": "markdown",
   "metadata": {},
   "source": [
    "## Modeling\n",
    "\n",
    "**Classification**\n",
    "- SVM\n",
    "- KNN\n",
    "- Naive Bayes\n",
    "\n",
    "**Regression**\n",
    "- LinearRegression\n",
    "- Ridge\n",
    "- Lasso\n",
    "- MultiTask Lasso\n",
    "- ElasticNet"
   ]
  },
  {
   "cell_type": "markdown",
   "metadata": {},
   "source": [
    "### Create Train & Test sets"
   ]
  },
  {
   "cell_type": "code",
   "execution_count": 377,
   "metadata": {},
   "outputs": [
    {
     "data": {
      "text/plain": [
       "((3341, 8), (3341,))"
      ]
     },
     "execution_count": 377,
     "metadata": {},
     "output_type": "execute_result"
    }
   ],
   "source": [
    "from sklearn.model_selection import train_test_split\n",
    "\n",
    "# Create training and target data\n",
    "#X, y = raw.drop('RingCount', axis=1), raw['RingCount']\n",
    "X, y = raw_scaled.drop('RingCount', axis=1), raw_scaled['RingCount']\n",
    "\n",
    "# Split test and training data\n",
    "X_train, X_test, y_train, y_test = train_test_split(X, y, test_size=0.2, random_state=123)\n",
    "\n",
    "X_train.shape, y_train.shape"
   ]
  },
  {
   "cell_type": "code",
   "execution_count": 404,
   "metadata": {},
   "outputs": [
    {
     "data": {
      "text/html": [
       "<div>\n",
       "<style scoped>\n",
       "    .dataframe tbody tr th:only-of-type {\n",
       "        vertical-align: middle;\n",
       "    }\n",
       "\n",
       "    .dataframe tbody tr th {\n",
       "        vertical-align: top;\n",
       "    }\n",
       "\n",
       "    .dataframe thead th {\n",
       "        text-align: right;\n",
       "    }\n",
       "</style>\n",
       "<table border=\"1\" class=\"dataframe\">\n",
       "  <thead>\n",
       "    <tr style=\"text-align: right;\">\n",
       "      <th></th>\n",
       "      <th>Diameter</th>\n",
       "      <th>Sex_I</th>\n",
       "      <th>Sex_M</th>\n",
       "      <th>Height_log</th>\n",
       "      <th>Scaled_WeightWhole</th>\n",
       "      <th>Scaled_WeightShucked</th>\n",
       "      <th>Scaled_WeightViscera</th>\n",
       "      <th>Scaled_WeightShell</th>\n",
       "    </tr>\n",
       "  </thead>\n",
       "  <tbody>\n",
       "    <tr>\n",
       "      <td>0</td>\n",
       "      <td>0.365</td>\n",
       "      <td>0</td>\n",
       "      <td>1</td>\n",
       "      <td>-1.124512</td>\n",
       "      <td>-0.641898</td>\n",
       "      <td>-0.607685</td>\n",
       "      <td>-0.726212</td>\n",
       "      <td>-0.638217</td>\n",
       "    </tr>\n",
       "    <tr>\n",
       "      <td>1</td>\n",
       "      <td>0.265</td>\n",
       "      <td>0</td>\n",
       "      <td>1</td>\n",
       "      <td>-1.264396</td>\n",
       "      <td>-1.230277</td>\n",
       "      <td>-1.170910</td>\n",
       "      <td>-1.205221</td>\n",
       "      <td>-1.212987</td>\n",
       "    </tr>\n",
       "    <tr>\n",
       "      <td>2</td>\n",
       "      <td>0.420</td>\n",
       "      <td>0</td>\n",
       "      <td>0</td>\n",
       "      <td>-0.064823</td>\n",
       "      <td>-0.309469</td>\n",
       "      <td>-0.463500</td>\n",
       "      <td>-0.356690</td>\n",
       "      <td>-0.207139</td>\n",
       "    </tr>\n",
       "    <tr>\n",
       "      <td>3</td>\n",
       "      <td>0.365</td>\n",
       "      <td>0</td>\n",
       "      <td>1</td>\n",
       "      <td>-0.320227</td>\n",
       "      <td>-0.637819</td>\n",
       "      <td>-0.648238</td>\n",
       "      <td>-0.607600</td>\n",
       "      <td>-0.602294</td>\n",
       "    </tr>\n",
       "    <tr>\n",
       "      <td>4</td>\n",
       "      <td>0.255</td>\n",
       "      <td>1</td>\n",
       "      <td>0</td>\n",
       "      <td>-1.549424</td>\n",
       "      <td>-1.272086</td>\n",
       "      <td>-1.215968</td>\n",
       "      <td>-1.287337</td>\n",
       "      <td>-1.320757</td>\n",
       "    </tr>\n",
       "    <tr>\n",
       "      <td>...</td>\n",
       "      <td>...</td>\n",
       "      <td>...</td>\n",
       "      <td>...</td>\n",
       "      <td>...</td>\n",
       "      <td>...</td>\n",
       "      <td>...</td>\n",
       "      <td>...</td>\n",
       "      <td>...</td>\n",
       "    </tr>\n",
       "    <tr>\n",
       "      <td>4172</td>\n",
       "      <td>0.450</td>\n",
       "      <td>0</td>\n",
       "      <td>0</td>\n",
       "      <td>0.666117</td>\n",
       "      <td>0.118813</td>\n",
       "      <td>0.047908</td>\n",
       "      <td>0.532900</td>\n",
       "      <td>0.073062</td>\n",
       "    </tr>\n",
       "    <tr>\n",
       "      <td>4173</td>\n",
       "      <td>0.440</td>\n",
       "      <td>0</td>\n",
       "      <td>1</td>\n",
       "      <td>-0.064823</td>\n",
       "      <td>0.279929</td>\n",
       "      <td>0.358808</td>\n",
       "      <td>0.309362</td>\n",
       "      <td>0.155685</td>\n",
       "    </tr>\n",
       "    <tr>\n",
       "      <td>4174</td>\n",
       "      <td>0.475</td>\n",
       "      <td>0</td>\n",
       "      <td>1</td>\n",
       "      <td>1.565082</td>\n",
       "      <td>0.708212</td>\n",
       "      <td>0.748559</td>\n",
       "      <td>0.975413</td>\n",
       "      <td>0.496955</td>\n",
       "    </tr>\n",
       "    <tr>\n",
       "      <td>4175</td>\n",
       "      <td>0.485</td>\n",
       "      <td>0</td>\n",
       "      <td>0</td>\n",
       "      <td>0.307083</td>\n",
       "      <td>0.541998</td>\n",
       "      <td>0.773341</td>\n",
       "      <td>0.733627</td>\n",
       "      <td>0.410739</td>\n",
       "    </tr>\n",
       "    <tr>\n",
       "      <td>4176</td>\n",
       "      <td>0.555</td>\n",
       "      <td>0</td>\n",
       "      <td>1</td>\n",
       "      <td>1.347943</td>\n",
       "      <td>2.283681</td>\n",
       "      <td>2.640993</td>\n",
       "      <td>1.787449</td>\n",
       "      <td>1.840481</td>\n",
       "    </tr>\n",
       "  </tbody>\n",
       "</table>\n",
       "<p>4177 rows × 8 columns</p>\n",
       "</div>"
      ],
      "text/plain": [
       "      Diameter  Sex_I  Sex_M  Height_log  Scaled_WeightWhole  Scaled_WeightShucked  Scaled_WeightViscera  Scaled_WeightShell\n",
       "0        0.365      0      1   -1.124512           -0.641898             -0.607685             -0.726212           -0.638217\n",
       "1        0.265      0      1   -1.264396           -1.230277             -1.170910             -1.205221           -1.212987\n",
       "2        0.420      0      0   -0.064823           -0.309469             -0.463500             -0.356690           -0.207139\n",
       "3        0.365      0      1   -0.320227           -0.637819             -0.648238             -0.607600           -0.602294\n",
       "4        0.255      1      0   -1.549424           -1.272086             -1.215968             -1.287337           -1.320757\n",
       "...        ...    ...    ...         ...                 ...                   ...                   ...                 ...\n",
       "4172     0.450      0      0    0.666117            0.118813              0.047908              0.532900            0.073062\n",
       "4173     0.440      0      1   -0.064823            0.279929              0.358808              0.309362            0.155685\n",
       "4174     0.475      0      1    1.565082            0.708212              0.748559              0.975413            0.496955\n",
       "4175     0.485      0      0    0.307083            0.541998              0.773341              0.733627            0.410739\n",
       "4176     0.555      0      1    1.347943            2.283681              2.640993              1.787449            1.840481\n",
       "\n",
       "[4177 rows x 8 columns]"
      ]
     },
     "execution_count": 404,
     "metadata": {},
     "output_type": "execute_result"
    }
   ],
   "source": [
    "X"
   ]
  },
  {
   "cell_type": "markdown",
   "metadata": {},
   "source": [
    "### Evaluating Models"
   ]
  },
  {
   "cell_type": "code",
   "execution_count": 384,
   "metadata": {},
   "outputs": [
    {
     "name": "stderr",
     "output_type": "stream",
     "text": [
      "/Users/gregory/anaconda3/envs/uci_abalone_env/lib/python3.7/site-packages/sklearn/svm/base.py:193: FutureWarning: The default value of gamma will change from 'auto' to 'scale' in version 0.22 to account better for unscaled features. Set gamma explicitly to 'auto' or 'scale' to avoid this warning.\n",
      "  \"avoid this warning.\", FutureWarning)\n",
      "/Users/gregory/anaconda3/envs/uci_abalone_env/lib/python3.7/site-packages/sklearn/svm/base.py:193: FutureWarning: The default value of gamma will change from 'auto' to 'scale' in version 0.22 to account better for unscaled features. Set gamma explicitly to 'auto' or 'scale' to avoid this warning.\n",
      "  \"avoid this warning.\", FutureWarning)\n",
      "/Users/gregory/anaconda3/envs/uci_abalone_env/lib/python3.7/site-packages/sklearn/model_selection/_split.py:657: Warning: The least populated class in y has only 1 members, which is too few. The minimum number of members in any class cannot be less than n_splits=10.\n",
      "  % (min_groups, self.n_splits)), Warning)\n",
      "/Users/gregory/anaconda3/envs/uci_abalone_env/lib/python3.7/site-packages/sklearn/svm/base.py:193: FutureWarning: The default value of gamma will change from 'auto' to 'scale' in version 0.22 to account better for unscaled features. Set gamma explicitly to 'auto' or 'scale' to avoid this warning.\n",
      "  \"avoid this warning.\", FutureWarning)\n",
      "/Users/gregory/anaconda3/envs/uci_abalone_env/lib/python3.7/site-packages/sklearn/svm/base.py:193: FutureWarning: The default value of gamma will change from 'auto' to 'scale' in version 0.22 to account better for unscaled features. Set gamma explicitly to 'auto' or 'scale' to avoid this warning.\n",
      "  \"avoid this warning.\", FutureWarning)\n",
      "/Users/gregory/anaconda3/envs/uci_abalone_env/lib/python3.7/site-packages/sklearn/svm/base.py:193: FutureWarning: The default value of gamma will change from 'auto' to 'scale' in version 0.22 to account better for unscaled features. Set gamma explicitly to 'auto' or 'scale' to avoid this warning.\n",
      "  \"avoid this warning.\", FutureWarning)\n",
      "/Users/gregory/anaconda3/envs/uci_abalone_env/lib/python3.7/site-packages/sklearn/svm/base.py:193: FutureWarning: The default value of gamma will change from 'auto' to 'scale' in version 0.22 to account better for unscaled features. Set gamma explicitly to 'auto' or 'scale' to avoid this warning.\n",
      "  \"avoid this warning.\", FutureWarning)\n",
      "/Users/gregory/anaconda3/envs/uci_abalone_env/lib/python3.7/site-packages/sklearn/svm/base.py:193: FutureWarning: The default value of gamma will change from 'auto' to 'scale' in version 0.22 to account better for unscaled features. Set gamma explicitly to 'auto' or 'scale' to avoid this warning.\n",
      "  \"avoid this warning.\", FutureWarning)\n",
      "/Users/gregory/anaconda3/envs/uci_abalone_env/lib/python3.7/site-packages/sklearn/svm/base.py:193: FutureWarning: The default value of gamma will change from 'auto' to 'scale' in version 0.22 to account better for unscaled features. Set gamma explicitly to 'auto' or 'scale' to avoid this warning.\n",
      "  \"avoid this warning.\", FutureWarning)\n",
      "/Users/gregory/anaconda3/envs/uci_abalone_env/lib/python3.7/site-packages/sklearn/svm/base.py:193: FutureWarning: The default value of gamma will change from 'auto' to 'scale' in version 0.22 to account better for unscaled features. Set gamma explicitly to 'auto' or 'scale' to avoid this warning.\n",
      "  \"avoid this warning.\", FutureWarning)\n",
      "/Users/gregory/anaconda3/envs/uci_abalone_env/lib/python3.7/site-packages/sklearn/svm/base.py:193: FutureWarning: The default value of gamma will change from 'auto' to 'scale' in version 0.22 to account better for unscaled features. Set gamma explicitly to 'auto' or 'scale' to avoid this warning.\n",
      "  \"avoid this warning.\", FutureWarning)\n",
      "/Users/gregory/anaconda3/envs/uci_abalone_env/lib/python3.7/site-packages/sklearn/svm/base.py:193: FutureWarning: The default value of gamma will change from 'auto' to 'scale' in version 0.22 to account better for unscaled features. Set gamma explicitly to 'auto' or 'scale' to avoid this warning.\n",
      "  \"avoid this warning.\", FutureWarning)\n",
      "/Users/gregory/anaconda3/envs/uci_abalone_env/lib/python3.7/site-packages/sklearn/svm/base.py:193: FutureWarning: The default value of gamma will change from 'auto' to 'scale' in version 0.22 to account better for unscaled features. Set gamma explicitly to 'auto' or 'scale' to avoid this warning.\n",
      "  \"avoid this warning.\", FutureWarning)\n",
      "/Users/gregory/anaconda3/envs/uci_abalone_env/lib/python3.7/site-packages/sklearn/model_selection/_split.py:657: Warning: The least populated class in y has only 1 members, which is too few. The minimum number of members in any class cannot be less than n_splits=10.\n",
      "  % (min_groups, self.n_splits)), Warning)\n",
      "/Users/gregory/anaconda3/envs/uci_abalone_env/lib/python3.7/site-packages/sklearn/model_selection/_split.py:657: Warning: The least populated class in y has only 1 members, which is too few. The minimum number of members in any class cannot be less than n_splits=10.\n",
      "  % (min_groups, self.n_splits)), Warning)\n",
      "/Users/gregory/anaconda3/envs/uci_abalone_env/lib/python3.7/site-packages/sklearn/ensemble/forest.py:245: FutureWarning: The default value of n_estimators will change from 10 in version 0.20 to 100 in 0.22.\n",
      "  \"10 in version 0.20 to 100 in 0.22.\", FutureWarning)\n"
     ]
    }
   ],
   "source": [
    "# Import regressors\n",
    "from sklearn.linear_model import LinearRegression\n",
    "from sklearn.linear_model import Ridge\n",
    "from sklearn.linear_model import Lasso\n",
    "from sklearn.linear_model import MultiTaskLasso\n",
    "from sklearn.linear_model import ElasticNet\n",
    "from sklearn.ensemble import RandomForestRegressor\n",
    "\n",
    "# Import metrics\n",
    "from sklearn.model_selection import cross_val_score\n",
    "\n",
    "# Function to performs cross-validation scoring\n",
    "def evaluate_clf(clf, metric=None):\n",
    "    clf.fit(X_train, y_train)\n",
    "    score = cross_val_score(clf, X, y, cv=10, scoring=metric).mean()\n",
    "    \n",
    "    return score\n",
    "\n",
    "# Initialize dictionary to hold name:score key value pairs\n",
    "model_dict = {}\n",
    "\n",
    "# Evaluating classifiers\n",
    "clf_list = [SVC(), KNeighborsClassifier(), GaussianNB()]\n",
    "clf_name = [\"SVC\", \"KNN\", \"Naive Bayes\"]\n",
    "metric = 'accuracy'\n",
    "\n",
    "for name, model in zip(clf_name, clf_list):\n",
    "    model.fit(X_train, y_train)\n",
    "    model_dict.update({name:evaluate_clf(model)})\n",
    "\n",
    "# Evaluating regressors\n",
    "clf_list = [LinearRegression(), Ridge(), Lasso(), ElasticNet(), RandomForestRegressor()]\n",
    "clf_name = [\"LinearRegression\", \"Ridge\", \"Lasso\", \"ElasticNet\", \"RandomForestRegressor\"]\n",
    "metric = 'neg_mean_squared_error'\n",
    "    \n",
    "for name, model in zip(clf_name, clf_list):\n",
    "    model.fit(X_train, y_train)\n",
    "    model_dict.update({name:evaluate_clf(model)})\n",
    "\n",
    "# Convert dict to dataframe\n",
    "models_df = pd.DataFrame.from_records([model_dict]).T.sort_values(by=0, ascending=False)\n",
    "models_df.columns = [\"Score\"]"
   ]
  },
  {
   "cell_type": "code",
   "execution_count": 382,
   "metadata": {},
   "outputs": [
    {
     "data": {
      "text/html": [
       "<div>\n",
       "<style scoped>\n",
       "    .dataframe tbody tr th:only-of-type {\n",
       "        vertical-align: middle;\n",
       "    }\n",
       "\n",
       "    .dataframe tbody tr th {\n",
       "        vertical-align: top;\n",
       "    }\n",
       "\n",
       "    .dataframe thead th {\n",
       "        text-align: right;\n",
       "    }\n",
       "</style>\n",
       "<table border=\"1\" class=\"dataframe\">\n",
       "  <thead>\n",
       "    <tr style=\"text-align: right;\">\n",
       "      <th></th>\n",
       "      <th>Score</th>\n",
       "    </tr>\n",
       "  </thead>\n",
       "  <tbody>\n",
       "    <tr>\n",
       "      <td>Ridge</td>\n",
       "      <td>0.371852</td>\n",
       "    </tr>\n",
       "    <tr>\n",
       "      <td>LinearRegression</td>\n",
       "      <td>0.369797</td>\n",
       "    </tr>\n",
       "    <tr>\n",
       "      <td>RandomForestRegressor</td>\n",
       "      <td>0.344225</td>\n",
       "    </tr>\n",
       "    <tr>\n",
       "      <td>SVC</td>\n",
       "      <td>0.268116</td>\n",
       "    </tr>\n",
       "    <tr>\n",
       "      <td>KNN</td>\n",
       "      <td>0.224146</td>\n",
       "    </tr>\n",
       "    <tr>\n",
       "      <td>ElasticNet</td>\n",
       "      <td>0.173411</td>\n",
       "    </tr>\n",
       "    <tr>\n",
       "      <td>Lasso</td>\n",
       "      <td>0.141033</td>\n",
       "    </tr>\n",
       "    <tr>\n",
       "      <td>Naive Bayes</td>\n",
       "      <td>0.108611</td>\n",
       "    </tr>\n",
       "  </tbody>\n",
       "</table>\n",
       "</div>"
      ],
      "text/plain": [
       "                          Score\n",
       "Ridge                  0.371852\n",
       "LinearRegression       0.369797\n",
       "RandomForestRegressor  0.344225\n",
       "SVC                    0.268116\n",
       "KNN                    0.224146\n",
       "ElasticNet             0.173411\n",
       "Lasso                  0.141033\n",
       "Naive Bayes            0.108611"
      ]
     },
     "execution_count": 382,
     "metadata": {},
     "output_type": "execute_result"
    }
   ],
   "source": [
    "models_df"
   ]
  },
  {
   "cell_type": "markdown",
   "metadata": {},
   "source": [
    "The highest scoring models were Ridge and LinearRegression. Next we will find the best hyperparameters for these models."
   ]
  },
  {
   "cell_type": "markdown",
   "metadata": {},
   "source": [
    "### Hyperparameters: Ridge vs LinearRegression"
   ]
  },
  {
   "cell_type": "code",
   "execution_count": 406,
   "metadata": {},
   "outputs": [
    {
     "data": {
      "text/plain": [
       "Index(['Diameter', 'Sex_I', 'Sex_M', 'Height_log', 'Scaled_WeightWhole', 'Scaled_WeightShucked', 'Scaled_WeightViscera', 'Scaled_WeightShell'], dtype='object')"
      ]
     },
     "execution_count": 406,
     "metadata": {},
     "output_type": "execute_result"
    }
   ],
   "source": [
    "X.columns"
   ]
  },
  {
   "cell_type": "code",
   "execution_count": null,
   "metadata": {},
   "outputs": [
    {
     "name": "stdout",
     "output_type": "stream",
     "text": [
      "Ridge(alpha=1.0, copy_X=True, fit_intercept=True, max_iter=None,\n",
      "      normalize=False, random_state=None, solver='auto', tol=0.001)\n",
      "Score: 5.136691066910781\n",
      "Best Parameters: {'alpha': 1, 'fit_intercept': True, 'normalize': False}\n",
      "LinearRegression(copy_X=True, fit_intercept=True, n_jobs=None, normalize=False)\n",
      "Score: 5.140778226541079\n",
      "Best Parameters: {'fit_intercept': True, 'normalize': True}\n",
      "RandomForestRegressor(bootstrap=True, criterion='mse', max_depth=None,\n",
      "                      max_features='auto', max_leaf_nodes=None,\n",
      "                      min_impurity_decrease=0.0, min_impurity_split=None,\n",
      "                      min_samples_leaf=1, min_samples_split=2,\n",
      "                      min_weight_fraction_leaf=0.0, n_estimators='warn',\n",
      "                      n_jobs=None, oob_score=False, random_state=None,\n",
      "                      verbose=0, warm_start=False)\n"
     ]
    }
   ],
   "source": [
    "from sklearn.model_selection import GridSearchCV\n",
    "\n",
    "ridge_params = {\"alpha\":[0.01, 1, 10], \"fit_intercept\":[True, False], \"normalize\":[True, False]}\n",
    "linreg_params = {\"fit_intercept\":[True, False], \"normalize\":[True, False]}\n",
    "rf_params = {\"n_estimators\":[10, 100], \"max_depth\":[0.1, 1, 10, 100], \"min_samples_split\":np.linspace(0.1, 1, 10), \n",
    "            \"min_samples_leaf\":[0.01, .1, 1, 10]}\n",
    "\n",
    "models = [Ridge(), LinearRegression(), RandomForestRegressor()]\n",
    "model_names = [\"Ridge\", \"LinReg\", \"RF\"]\n",
    "model_params = [ridge_params, linreg_params, rf_params]\n",
    "best_params = []\n",
    "\n",
    "def find_params(model, params):\n",
    "    model_cv = GridSearchCV(model, params, scoring='neg_mean_squared_error', cv=5)\n",
    "    model_cv.fit(X, y)\n",
    "    print(\"Score: {}\\nBest Parameters: {}\".format(-model_cv.best_score_, \n",
    "                                                  model_cv.best_params_))\n",
    "    return model_cv.best_params_\n",
    "\n",
    "# Hyperparameters\n",
    "for model, p in zip(models, model_params):\n",
    "    print(model)\n",
    "    find_params(model, p)"
   ]
  },
  {
   "cell_type": "markdown",
   "metadata": {},
   "source": [
    "It looks like Ridge has slightly lower RMSE."
   ]
  },
  {
   "cell_type": "code",
   "execution_count": 328,
   "metadata": {},
   "outputs": [],
   "source": [
    "alpha = np.linspace(0.1, 10, 100)\n",
    "train_accuracy = np.empty(len(alpha))\n",
    "test_accuracy = np.empty(len(alpha))\n",
    "\n",
    "# Score for values of n_neighbors\n",
    "for i, k in enumerate(alpha):\n",
    "    r = Ridge(alpha=k, normalize=True)\n",
    "    \n",
    "    r.fit(X_train, y_train)\n",
    "    \n",
    "    # Collects test accuracy values\n",
    "    train_accuracy[i] = r.score(X_train, y_train)\n",
    "    \n",
    "    # Collects train accuracy values\n",
    "    test_accuracy[i] = r.score(X_test, y_test)"
   ]
  },
  {
   "cell_type": "code",
   "execution_count": 329,
   "metadata": {},
   "outputs": [
    {
     "data": {
      "image/png": "[encoded data removed]",
      "text/plain": [
       "<Figure size 432x288 with 1 Axes>"
      ]
     },
     "metadata": {},
     "output_type": "display_data"
    }
   ],
   "source": [
    "# Plots Ridge accuracy with different alpha\n",
    "plt.plot(alpha, train_accuracy, label=\"Train Accuracy\")\n",
    "plt.plot(alpha, test_accuracy, label=\"Test Accuracy\")\n",
    "plt.legend()\n",
    "plt.xlabel(\"Alpha\")\n",
    "plt.ylabel(\"Accuracy\")\n",
    "plt.show()"
   ]
  },
  {
   "cell_type": "code",
   "execution_count": 330,
   "metadata": {},
   "outputs": [
    {
     "data": {
      "text/plain": [
       "0.3718519225314159"
      ]
     },
     "execution_count": 330,
     "metadata": {},
     "output_type": "execute_result"
    }
   ],
   "source": [
    "# Using best parameter alpha=1\n",
    "r = Ridge(alpha=1)\n",
    "\n",
    "r.fit(X, y)\n",
    "\n",
    "cross_val_score(r, X, y, cv=10).mean()"
   ]
  },
  {
   "cell_type": "code",
   "execution_count": null,
   "metadata": {},
   "outputs": [],
   "source": []
  }
 ],
 "metadata": {
  "kernelspec": {
   "display_name": "Python 3",
   "language": "python",
   "name": "python3"
  },
  "language_info": {
   "codemirror_mode": {
    "name": "ipython",
    "version": 3
   },
   "file_extension": ".py",
   "mimetype": "text/x-python",
   "name": "python",
   "nbconvert_exporter": "python",
   "pygments_lexer": "ipython3",
   "version": "3.7.4"
  }
 },
 "nbformat": 4,
 "nbformat_minor": 2
}
